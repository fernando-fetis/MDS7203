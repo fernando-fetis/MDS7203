{
  "cells": [
    {
      "cell_type": "markdown",
      "metadata": {
        "id": "aZ-iRC82huze"
      },
      "source": [
        "# Implementación de un modelo GPT"
      ]
    },
    {
      "cell_type": "code",
      "execution_count": 1,
      "metadata": {
        "id": "DYnVCBYlhuzg"
      },
      "outputs": [],
      "source": [
        "import torch\n",
        "from torch import nn, optim\n",
        "from torch.utils.data import Dataset, DataLoader\n",
        "import matplotlib.pyplot as plt\n",
        "import tqdm\n",
        "import re\n",
        "\n",
        "DEVICE = torch.device('cuda' if torch.cuda.is_available() else 'cpu')"
      ]
    },
    {
      "cell_type": "markdown",
      "metadata": {
        "id": "g3hoikEJhuzh"
      },
      "source": [
        "## Clase anterior"
      ]
    },
    {
      "cell_type": "code",
      "execution_count": 2,
      "metadata": {
        "id": "GCYmBcAwhuzi"
      },
      "outputs": [],
      "source": [
        "class Tokenizer:\n",
        "\n",
        "    def __init__(self, corpus_vocabulary):\n",
        "        self.vocabulary = corpus_vocabulary + ['<BOS>', '<EOS>', '<UNK>', '<PAD>']\n",
        "        self.vocab_size = len(self.vocabulary)\n",
        "\n",
        "        self.token_to_id = {token: id for id, token in enumerate(self.vocabulary)}\n",
        "        self.bos_id = self.token_to_id['<BOS>']\n",
        "        self.eos_id = self.token_to_id['<EOS>']\n",
        "        self.unk_id = self.token_to_id['<UNK>']\n",
        "        self.pad_id = self.token_to_id['<PAD>']\n",
        "\n",
        "    def encode(self, text):\n",
        "        seq_tokens = re.findall(r'\\d|[^\\w\\s]|\\w+|\\s', text)\n",
        "        seq_ids = [self.token_to_id.get(token, self.unk_id) for token in seq_tokens]\n",
        "        return seq_ids\n",
        "\n",
        "    def decode(self, seq_ids):\n",
        "        seq_tokens = ''.join(self.vocabulary[i] for i in seq_ids)\n",
        "        return seq_tokens"
      ]
    },
    {
      "cell_type": "code",
      "execution_count": 3,
      "metadata": {
        "id": "wpZnBRXEhuzi"
      },
      "outputs": [],
      "source": [
        "class TextDataset(Dataset):\n",
        "\n",
        "    def __init__(self, filename, seq_length):\n",
        "\n",
        "        with open(filename, 'r', encoding='utf-8') as file:\n",
        "            corpus = file.read()\n",
        "\n",
        "        corpus_vocabulary = sorted(set(re.findall(r'\\d|[^\\w\\s]|\\w+|\\s', corpus)))\n",
        "        self.tokenizer = Tokenizer(corpus_vocabulary)\n",
        "\n",
        "        sentences = [sentence.strip() for sentence in corpus.split('\\n') if sentence.strip()]\n",
        "        self.data = [[self.tokenizer.bos_id] + self.tokenizer.encode(sentence) + [self.tokenizer.eos_id] for sentence in sentences]\n",
        "\n",
        "        self.seq_length = seq_length\n",
        "\n",
        "    def __len__(self):\n",
        "        return len(self.data)\n",
        "\n",
        "    def __getitem__(self, n):\n",
        "\n",
        "        seq_ids = self.data[n]\n",
        "\n",
        "        if len(seq_ids) > self.seq_length:\n",
        "            seq_ids = seq_ids[:self.seq_length]\n",
        "        else:\n",
        "            seq_ids += [self.tokenizer.pad_id] * (self.seq_length - len(seq_ids))\n",
        "\n",
        "        return torch.tensor(seq_ids)"
      ]
    },
    {
      "cell_type": "code",
      "execution_count": 4,
      "metadata": {
        "colab": {
          "base_uri": "https://localhost:8080/"
        },
        "id": "J-P16NTChuzi",
        "outputId": "26c83d3a-27ce-4d72-b870-c09bd4c4ec1a"
      },
      "outputs": [
        {
          "name": "stdout",
          "output_type": "stream",
          "text": [
            "Tamaño del dataset: 719 secuencias.\n",
            "Tamaño del dataloader: 22 batches.\n",
            "Tamaño del vocabulario: 60198 tokens.\n"
          ]
        }
      ],
      "source": [
        "seq_length, batch_size = 256, 32\n",
        "\n",
        "dataset = TextDataset('data.txt', seq_length)\n",
        "dataloader = DataLoader(dataset, batch_size, shuffle=True, drop_last=True)\n",
        "\n",
        "print(f'Tamaño del dataset: {len(dataset)} secuencias.')\n",
        "print(f'Tamaño del dataloader: {len(dataloader)} batches.')\n",
        "print(f'Tamaño del vocabulario: {dataset.tokenizer.vocab_size} tokens.')"
      ]
    },
    {
      "cell_type": "code",
      "execution_count": 5,
      "metadata": {
        "id": "V9P2lPTDhuzj"
      },
      "outputs": [],
      "source": [
        "def train_model(model, optimizer, dataloader, epochs, ckpt_filename):\n",
        "\n",
        "    model.to(DEVICE)\n",
        "    model.train()\n",
        "\n",
        "    pad_id = dataloader.dataset.tokenizer.pad_id\n",
        "    loss_fn = nn.CrossEntropyLoss(ignore_index=pad_id)\n",
        "\n",
        "    training = {'losses': [], 'model': None}\n",
        "\n",
        "    try:\n",
        "        progressbar = tqdm.trange(epochs)\n",
        "        for epoch in progressbar:\n",
        "\n",
        "            for seq_batch in dataloader:\n",
        "\n",
        "                seq_batch = seq_batch.to(DEVICE)  # [batch_size, seq_length].\n",
        "                x_batch, y_batch = seq_batch[:, :-1], seq_batch[:, 1:]\n",
        "\n",
        "                logits = model(x_batch)\n",
        "\n",
        "                batch_size, seq_length, vocab_size = logits.shape\n",
        "                logits = logits.reshape(batch_size * seq_length, vocab_size)\n",
        "                y_batch = y_batch.reshape(batch_size * seq_length)\n",
        "\n",
        "                loss = loss_fn(logits, y_batch)\n",
        "\n",
        "                optimizer.zero_grad()\n",
        "                loss.backward()\n",
        "                optimizer.step()\n",
        "\n",
        "                training['losses'].append(loss.item())\n",
        "                progressbar.set_postfix(loss=loss.item())\n",
        "\n",
        "    except KeyboardInterrupt:\n",
        "        print('Entrenamiento interrumpido.')\n",
        "\n",
        "    training['model'] = model.state_dict()\n",
        "    torch.save(training, ckpt_filename)"
      ]
    },
    {
      "cell_type": "code",
      "execution_count": 6,
      "metadata": {
        "id": "CrocZWNGhuzj"
      },
      "outputs": [],
      "source": [
        "def generate_tokens(model, context, tokenizer, temperature=1, top_k=50, max_tokens=512, repetition_penalty=1):\n",
        "    model.to(DEVICE)\n",
        "    model.eval()\n",
        "\n",
        "    seq_id = [tokenizer.bos_id] + tokenizer.encode(context)\n",
        "    seq_id = torch.tensor(seq_id, device=DEVICE)\n",
        "\n",
        "    with torch.no_grad():\n",
        "        for _ in range(max_tokens):\n",
        "            logits = model(seq_id.unsqueeze(0))[0, -1, :]\n",
        "\n",
        "            if temperature == 0:\n",
        "                next_token = torch.argmax(logits, dim=-1, keepdim=True)\n",
        "            else:\n",
        "                logits = logits / temperature\n",
        "\n",
        "                token_counts = torch.bincount(seq_id, minlength=logits.size(0))\n",
        "                for token_id, count in enumerate(token_counts):\n",
        "                    if count > 0:\n",
        "                        logits[token_id] /= (repetition_penalty ** count)\n",
        "\n",
        "                top_k_logits, top_k_indices = torch.topk(logits, top_k)\n",
        "                probs = top_k_logits.softmax(dim=-1)\n",
        "                next_token = top_k_indices[torch.multinomial(probs, num_samples=1)]\n",
        "\n",
        "            seq_id = torch.cat((seq_id, next_token), dim=0)\n",
        "\n",
        "            if next_token in (tokenizer.eos_id, tokenizer.pad_id):\n",
        "                break\n",
        "\n",
        "    return tokenizer.decode(seq_id.tolist())"
      ]
    },
    {
      "cell_type": "markdown",
      "metadata": {
        "id": "DIqq9AKOhuzj"
      },
      "source": [
        "## Arquitectura GPT"
      ]
    },
    {
      "cell_type": "code",
      "execution_count": 7,
      "metadata": {
        "id": "PdgM1OL6huzj"
      },
      "outputs": [],
      "source": [
        "class GPTConfig:\n",
        "    vocab_size = dataset.tokenizer.vocab_size\n",
        "    context_window = 256\n",
        "    embedding_dim = 384\n",
        "    num_layers = 6\n",
        "    num_heads = 6\n",
        "    head_dim = 64\n",
        "    ff_factor = 4\n",
        "    dropout = 0.1"
      ]
    },
    {
      "cell_type": "markdown",
      "metadata": {
        "id": "Bn6zD5F1huzk"
      },
      "source": [
        "### Layer normalization"
      ]
    },
    {
      "cell_type": "code",
      "execution_count": 8,
      "metadata": {
        "id": "Ab6myn7ohuzk"
      },
      "outputs": [],
      "source": [
        "class LayerNorm(nn.Module):\n",
        "\n",
        "    def __init__(self, emb_dim, epsilon=1e-5):\n",
        "        super().__init__()\n",
        "\n",
        "        self.scale = nn.Parameter(torch.ones(emb_dim))\n",
        "        self.shift = nn.Parameter(torch.zeros(emb_dim))\n",
        "        self.epsilon = epsilon\n",
        "\n",
        "    def forward(self, x):\n",
        "        mean = x.mean(dim=-1, keepdim=True)\n",
        "        var = x.var(dim=-1, keepdim=True, unbiased=False)\n",
        "        x_norm = (x - mean) / torch.sqrt(var + self.epsilon)\n",
        "        return self.scale * x_norm + self.shift"
      ]
    },
    {
      "cell_type": "code",
      "execution_count": 9,
      "metadata": {
        "id": "gRKmdMGlhuzk"
      },
      "outputs": [],
      "source": [
        "# Ejemplo de uso:\n",
        "\n",
        "ln = LayerNorm(GPTConfig.embedding_dim)\n",
        "x = torch.randn(batch_size, seq_length, GPTConfig.embedding_dim)\n",
        "y = ln(x)\n",
        "\n",
        "assert y.shape == (batch_size, seq_length, GPTConfig.embedding_dim)\n",
        "assert y.mean(dim=-1).allclose(torch.zeros(batch_size, seq_length), atol=1e-5)\n",
        "assert y.var(dim=-1).allclose(torch.ones(batch_size, seq_length), atol=1e-2)"
      ]
    },
    {
      "cell_type": "markdown",
      "metadata": {
        "id": "0KgtLjuahuzk"
      },
      "source": [
        "### Self-attention"
      ]
    },
    {
      "cell_type": "code",
      "execution_count": 10,
      "metadata": {
        "id": "Ttm-aI_2huzl"
      },
      "outputs": [],
      "source": [
        "class SelfAttentionHead(nn.Module):\n",
        "\n",
        "    def __init__(self, cfig):\n",
        "        super().__init__()\n",
        "\n",
        "        self.query = nn.Linear(cfig.embedding_dim, cfig.head_dim, bias=False)\n",
        "        self.key = nn.Linear(cfig.embedding_dim, cfig.head_dim, bias=False)\n",
        "        self.value = nn.Linear(cfig.embedding_dim, cfig.head_dim, bias=False)\n",
        "\n",
        "        self.dropout = nn.Dropout(cfig.dropout)\n",
        "\n",
        "    def forward(self, x):\n",
        "\n",
        "        Q = self.query(x)\n",
        "        K = self.key(x)\n",
        "        V = self.value(x)\n",
        "\n",
        "        batch_size, seq_length, head_dim = Q.shape\n",
        "        mask = torch.tril(torch.ones(seq_length, seq_length)).to(x.device)\n",
        "\n",
        "        attn = Q @ K.transpose(-1, -2) / (head_dim ** 0.5)\n",
        "        attn = attn.masked_fill(mask == 0, float('-inf'))\n",
        "        attn = self.dropout(attn.softmax(dim=-1))\n",
        "\n",
        "        if self.training == False:\n",
        "            self.attn_matrix = attn.detach()\n",
        "\n",
        "        return attn @ V"
      ]
    },
    {
      "cell_type": "code",
      "execution_count": 11,
      "metadata": {
        "id": "c0V8wvX2huzl"
      },
      "outputs": [],
      "source": [
        "# Ejemplo de uso:\n",
        "\n",
        "sa = SelfAttentionHead(GPTConfig)\n",
        "x = torch.randn(batch_size, seq_length, GPTConfig.embedding_dim)\n",
        "y = sa(x)\n",
        "\n",
        "assert y.shape == (batch_size, seq_length, GPTConfig.head_dim)"
      ]
    },
    {
      "cell_type": "markdown",
      "metadata": {
        "id": "PBQcIt45huzl"
      },
      "source": [
        "### Atención multicabezal"
      ]
    },
    {
      "cell_type": "code",
      "execution_count": 12,
      "metadata": {
        "id": "j6Hs0Nighuzl"
      },
      "outputs": [],
      "source": [
        "class MultiHeadSelfAttention(nn.Module):\n",
        "\n",
        "    def __init__(self, cfig):\n",
        "        super().__init__()\n",
        "        self.heads = nn.ModuleList([SelfAttentionHead(cfig) for _ in range(cfig.num_heads)])\n",
        "        self.projection = nn.Linear(cfig.num_heads * cfig.head_dim, cfig.embedding_dim, bias=False)\n",
        "\n",
        "    def forward(self, x):\n",
        "        output = torch.cat([head(x) for head in self.heads], dim=-1)\n",
        "        output = self.projection(output)\n",
        "        return output"
      ]
    },
    {
      "cell_type": "code",
      "execution_count": 13,
      "metadata": {
        "id": "1QLVtaQohuzm"
      },
      "outputs": [],
      "source": [
        "# Ejemplo de uso:\n",
        "\n",
        "mhsa = MultiHeadSelfAttention(GPTConfig)\n",
        "x = torch.randn(batch_size, seq_length, GPTConfig.embedding_dim)\n",
        "y = mhsa(x)\n",
        "\n",
        "assert y.shape == (batch_size, seq_length, GPTConfig.embedding_dim)"
      ]
    },
    {
      "cell_type": "markdown",
      "metadata": {
        "id": "QIxvyDKAhuzm"
      },
      "source": [
        "## Red feed forward"
      ]
    },
    {
      "cell_type": "code",
      "execution_count": 14,
      "metadata": {
        "id": "A9UZBlvuhuzm"
      },
      "outputs": [],
      "source": [
        "class FeedForward(nn.Module):\n",
        "\n",
        "    def __init__(self, cfig):\n",
        "        super().__init__()\n",
        "        self.fc1 = nn.Linear(cfig.embedding_dim, cfig.ff_factor * cfig.embedding_dim, bias=False)\n",
        "        self.activation = nn.GELU()\n",
        "        self.fc2 = nn.Linear(cfig.ff_factor * cfig.embedding_dim, cfig.embedding_dim, bias=False)\n",
        "\n",
        "    def forward(self, x):\n",
        "        x = self.fc1(x)\n",
        "        x = self.activation(x)\n",
        "        x = self.fc2(x)\n",
        "        return x"
      ]
    },
    {
      "cell_type": "code",
      "execution_count": 15,
      "metadata": {
        "id": "MHUKJAguhuzn"
      },
      "outputs": [],
      "source": [
        "# Ejemplo de uso:\n",
        "\n",
        "ff = MultiHeadSelfAttention(GPTConfig)\n",
        "x = torch.randn(batch_size, seq_length, GPTConfig.embedding_dim)\n",
        "y = ff(x)\n",
        "\n",
        "assert y.shape == (batch_size, seq_length, GPTConfig.embedding_dim)"
      ]
    },
    {
      "cell_type": "markdown",
      "metadata": {
        "id": "ELD7Sggthuzn"
      },
      "source": [
        "### Bloque transformer"
      ]
    },
    {
      "cell_type": "code",
      "execution_count": 16,
      "metadata": {
        "id": "0PEo5TBxhuzn"
      },
      "outputs": [],
      "source": [
        "class TransformerBlock(nn.Module):\n",
        "\n",
        "    def __init__(self, cfig):\n",
        "        super().__init__()\n",
        "        self.norm1 = LayerNorm(cfig.embedding_dim)\n",
        "        self.mhsa = MultiHeadSelfAttention(cfig)\n",
        "        self.norm2 = LayerNorm(cfig.embedding_dim)\n",
        "        self.ff = FeedForward(cfig)\n",
        "        self.dropout = nn.Dropout(cfig.dropout)\n",
        "\n",
        "    def forward(self, x):\n",
        "        x = x + self.dropout(self.mhsa(self.norm1(x)))\n",
        "        x = x + self.dropout(self.ff(self.norm2(x)))\n",
        "        return x"
      ]
    },
    {
      "cell_type": "code",
      "execution_count": 17,
      "metadata": {
        "id": "WXhGu4wRhuzn"
      },
      "outputs": [],
      "source": [
        "# Ejemplo de uso:\n",
        "\n",
        "transformer_blocks = TransformerBlock(GPTConfig)\n",
        "x = torch.randn(batch_size, seq_length, GPTConfig.embedding_dim)\n",
        "y = transformer_blocks(x)\n",
        "\n",
        "assert y.shape == (batch_size, seq_length, GPTConfig.embedding_dim)"
      ]
    },
    {
      "cell_type": "markdown",
      "metadata": {
        "id": "jFJtxCYBhuzn"
      },
      "source": [
        "## Clase `GPT`"
      ]
    },
    {
      "cell_type": "code",
      "execution_count": 18,
      "metadata": {
        "id": "vSnEpybrhuzn"
      },
      "outputs": [],
      "source": [
        "class GPT(nn.Module):\n",
        "\n",
        "    def __init__(self, cfig):\n",
        "        super().__init__()\n",
        "\n",
        "        self.token_embedding = nn.Embedding(cfig.vocab_size, cfig.embedding_dim)\n",
        "        self.position_embedding = nn.Embedding(cfig.context_window, cfig.embedding_dim)\n",
        "        self.dropout = nn.Dropout(cfig.dropout)\n",
        "        self.transformer_blocks = nn.Sequential(*[TransformerBlock(cfig) for _ in range(cfig.num_layers)])\n",
        "        self.norm_output = LayerNorm(cfig.embedding_dim)\n",
        "        self.lm_head = nn.Linear(cfig.embedding_dim, cfig.vocab_size, bias=False)\n",
        "\n",
        "        self.context_window = cfig.context_window\n",
        "\n",
        "    def forward(self, x):\n",
        "\n",
        "        x = x[:, -self.context_window:]\n",
        "        batch_size, seq_length = x.shape\n",
        "\n",
        "        token_embedding = self.token_embedding(x.long())\n",
        "        positional_embedding = self.position_embedding(torch.arange(seq_length, device=x.device))\n",
        "\n",
        "        output = token_embedding + positional_embedding\n",
        "        output = self.dropout(output)\n",
        "        output = self.transformer_blocks(output)\n",
        "        output = self.norm_output(output)\n",
        "        output = self.lm_head(output)\n",
        "        return output"
      ]
    },
    {
      "cell_type": "code",
      "execution_count": 19,
      "metadata": {
        "id": "F9F8wXMQhuzo"
      },
      "outputs": [],
      "source": [
        "# Ejemplo de uso:\n",
        "\n",
        "gpt = GPT(GPTConfig)\n",
        "x = torch.randint(GPTConfig.vocab_size, size=[batch_size, seq_length])\n",
        "y = gpt(x)\n",
        "\n",
        "assert y.shape == (batch_size, seq_length, GPTConfig.vocab_size)"
      ]
    },
    {
      "cell_type": "markdown",
      "metadata": {
        "id": "VXJiYLEshuzo"
      },
      "source": [
        "## Entrenamiento y generación"
      ]
    },
    {
      "cell_type": "code",
      "execution_count": 20,
      "metadata": {
        "colab": {
          "base_uri": "https://localhost:8080/"
        },
        "id": "6Y5OL7Dghuzo",
        "outputId": "8f6db154-9433-402a-dca5-85b95906cf48"
      },
      "outputs": [
        {
          "name": "stdout",
          "output_type": "stream",
          "text": [
            "Cantidad de parámetros: 57.0 millones.\n"
          ]
        }
      ],
      "source": [
        "gpt = GPT(GPTConfig)\n",
        "\n",
        "n_params = sum(param.numel() for param in gpt.parameters()) / 1e6\n",
        "print(f'Cantidad de parámetros: {n_params:.3} millones.')"
      ]
    },
    {
      "cell_type": "markdown",
      "metadata": {
        "id": "NjjM7zXYhuzo"
      },
      "source": [
        "### Entrenamiento"
      ]
    },
    {
      "cell_type": "code",
      "execution_count": 21,
      "metadata": {
        "colab": {
          "base_uri": "https://localhost:8080/"
        },
        "id": "q3dalQJvhuzo",
        "outputId": "32be1a37-0743-42ef-fbe8-959b807c4e1d"
      },
      "outputs": [],
      "source": [
        "gpt_optimizer = optim.AdamW(gpt.parameters())\n",
        "#train_model(gpt, gpt_optimizer, dataloader, epochs=32, ckpt_filename='gpt_training.pt')"
      ]
    },
    {
      "cell_type": "code",
      "execution_count": 22,
      "metadata": {
        "colab": {
          "base_uri": "https://localhost:8080/",
          "height": 449
        },
        "id": "gwSJZ-9Whuzo",
        "outputId": "0fe55f0e-d308-4441-ace7-179208197c8d"
      },
      "outputs": [
        {
          "data": {
            "image/png": "[encoded data removed]",
            "text/plain": [
              "<Figure size 640x480 with 1 Axes>"
            ]
          },
          "metadata": {},
          "output_type": "display_data"
        }
      ],
      "source": [
        "rnn_training = torch.load('rnn_training.pt', DEVICE, weights_only=True)\n",
        "gpt_training = torch.load('gpt_training.pt', DEVICE, weights_only=True)\n",
        "gpt.load_state_dict(gpt_training['model'])\n",
        "\n",
        "plt.plot(rnn_training['losses'], label='RNN')\n",
        "plt.plot(gpt_training['losses'], label='GPT')\n",
        "plt.xlabel('Iteración')\n",
        "plt.ylabel('Entropía cruzada')\n",
        "plt.legend()\n",
        "plt.show()"
      ]
    },
    {
      "cell_type": "markdown",
      "metadata": {
        "id": "kE1F1tWUhuzo"
      },
      "source": [
        "### Generación"
      ]
    },
    {
      "cell_type": "code",
      "execution_count": 23,
      "metadata": {
        "colab": {
          "base_uri": "https://localhost:8080/"
        },
        "id": "FXuDj_pYhuzo",
        "outputId": "1bcd392f-2d34-4e2e-9293-9a3a74f488d0"
      },
      "outputs": [
        {
          "name": "stdout",
          "output_type": "stream",
          "text": [
            "<BOS>Habia una vez un espejo de mano que cuando se quedaba solo y nadie tirado en el ruido se sentia de un quedaba un hombre piezas dormian abrir y quiza y no gobernador que otros espejos se burlaban de escuchar mucho, cuando que llamado cuando los guardaban en el banco cajon con que lo inexplicable que lo satisfechos, ajenos a la preocupacion del neurotico.<EOS>\n"
          ]
        }
      ],
      "source": [
        "context = 'Habia una vez'\n",
        "new_tokens = generate_tokens(gpt, context, dataset.tokenizer, temperature=0.8, top_k=100, max_tokens=256, repetition_penalty=1)\n",
        "print(new_tokens)"
      ]
    },
    {
      "cell_type": "markdown",
      "metadata": {
        "id": "eWwL4dhJhuzo"
      },
      "source": [
        "### Visualización de las matrices de atención"
      ]
    },
    {
      "cell_type": "code",
      "execution_count": 24,
      "metadata": {
        "id": "fZQ_IFnJhuzp"
      },
      "outputs": [],
      "source": [
        "def show_attn_matrix(text, block):\n",
        "\n",
        "    tokens = re.findall(r'\\d|[^\\w\\s]|\\w+|\\s', text)\n",
        "    token_ids = dataset.tokenizer.encode(text)\n",
        "    x = torch.tensor(token_ids, device=DEVICE).unsqueeze(0)\n",
        "    _ = gpt(x)\n",
        "\n",
        "    heads = gpt.transformer_blocks[block].mhsa.heads\n",
        "    attn_matrices = [head.attn_matrix[0] for head in heads]\n",
        "\n",
        "    fig, axes = plt.subplots(2, len(heads) // 2, figsize=(12, 8))\n",
        "    fig.suptitle(f'Matrices de atención (block={block})')\n",
        "\n",
        "    for head, ax in enumerate(axes.flatten()):\n",
        "        ax.imshow(attn_matrices[head])\n",
        "        ax.set_xticks(ticks=range(len(tokens)), labels=tokens)\n",
        "        ax.set_yticks(ticks=range(len(tokens)), labels=tokens)\n",
        "        ax.set_title(f'Head {head + 1}')\n",
        "\n",
        "    plt.tight_layout()\n",
        "    plt.show()"
      ]
    },
    {
      "cell_type": "code",
      "execution_count": 25,
      "metadata": {
        "id": "Qr0_Vg30huzp"
      },
      "outputs": [
        {
          "data": {
            "image/png": "[encoded data removed]",
            "text/plain": [
              "<Figure size 1200x800 with 6 Axes>"
            ]
          },
          "metadata": {},
          "output_type": "display_data"
        }
      ],
      "source": [
        "text = 'Habia una vez en un pueblo muy lejano'\n",
        "show_attn_matrix(text, block=0)"
      ]
    }
  ],
  "metadata": {
    "accelerator": "GPU",
    "colab": {
      "gpuType": "T4",
      "provenance": []
    },
    "kernelspec": {
      "display_name": "Python 3",
      "name": "python3"
    },
    "language_info": {
      "codemirror_mode": {
        "name": "ipython",
        "version": 3
      },
      "file_extension": ".py",
      "mimetype": "text/x-python",
      "name": "python",
      "nbconvert_exporter": "python",
      "pygments_lexer": "ipython3",
      "version": "3.12.8"
    }
  },
  "nbformat": 4,
  "nbformat_minor": 0
}
