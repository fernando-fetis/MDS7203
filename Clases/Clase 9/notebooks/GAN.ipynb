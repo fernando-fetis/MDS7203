{
 "cells": [
  {
   "cell_type": "markdown",
   "metadata": {},
   "source": [
    "# Redes generativas adversarias"
   ]
  },
  {
   "cell_type": "code",
   "execution_count": 1,
   "metadata": {
    "id": "mBZUXy_1pQjD"
   },
   "outputs": [],
   "source": [
    "import torch\n",
    "import torch.nn as nn\n",
    "import torch.optim as optim\n",
    "import matplotlib.pyplot as plt\n",
    "from sklearn.datasets import make_swiss_roll"
   ]
  },
  {
   "cell_type": "markdown",
   "metadata": {},
   "source": [
    "## Datos de entrenamiento"
   ]
  },
  {
   "cell_type": "code",
   "execution_count": 2,
   "metadata": {},
   "outputs": [
    {
     "data": {
      "image/png": "[encoded data removed]",
      "text/plain": [
       "<Figure size 300x300 with 1 Axes>"
      ]
     },
     "metadata": {},
     "output_type": "display_data"
    }
   ],
   "source": [
    "def get_batch(batch_size=1000, noise=0.1):\n",
    "    x, _ = make_swiss_roll(batch_size, noise=noise)\n",
    "    x = x[:, [0, 2]]\n",
    "    x = (x - x.mean()) / x.std()\n",
    "    return torch.tensor(x).float()\n",
    "\n",
    "# Ejemplo:\n",
    "samples = get_batch()\n",
    "plt.figure(figsize=(3, 3))\n",
    "plt.scatter(samples[:, 0], samples[:, 1], s=1)\n",
    "plt.show()"
   ]
  },
  {
   "cell_type": "markdown",
   "metadata": {},
   "source": [
    "## Redes neuronales"
   ]
  },
  {
   "cell_type": "code",
   "execution_count": 3,
   "metadata": {},
   "outputs": [],
   "source": [
    "generator = lambda data_dim, latent_dim: nn.Sequential(\n",
    "    nn.Linear(latent_dim, 32), nn.ReLU(),\n",
    "    nn.Linear(32, 64), nn.ReLU(),\n",
    "    nn.Linear(64, 128), nn.ReLU(),\n",
    "    nn.Linear(128, data_dim)\n",
    ")\n",
    "\n",
    "discriminator = lambda data_dim: nn.Sequential(\n",
    "    nn.Linear(data_dim, 128), nn.ReLU(),\n",
    "    nn.Linear(128, 64), nn.ReLU(),\n",
    "    nn.Linear(64, 32), nn.ReLU(),\n",
    "    nn.Linear(32, 1), nn.Sigmoid()\n",
    ")"
   ]
  },
  {
   "cell_type": "markdown",
   "metadata": {},
   "source": [
    "## Entrenamiento"
   ]
  },
  {
   "cell_type": "code",
   "execution_count": 4,
   "metadata": {},
   "outputs": [],
   "source": [
    "def train(generator, discriminator, latent_dim, iters=5000, batch_fn=get_batch):\n",
    "\n",
    "    # Optimizadores:\n",
    "    generator_optimizer = optim.Adam(generator.parameters())\n",
    "    discriminator_optimizer = optim.Adam(discriminator.parameters())\n",
    "\n",
    "    for iter in range(iters):\n",
    "        \n",
    "        # Datos de entrenamiento:\n",
    "        x_true = batch_fn()\n",
    "        x_fake = generator(torch.randn([len(x_true), latent_dim]))\n",
    "\n",
    "        # Entrenamiento discriminador:\n",
    "        loss_y1 = torch.log(discriminator(x_true)).mean(dim=0)\n",
    "        loss_y0 = torch.log(1-discriminator(x_fake.detach())).mean(dim=0)\n",
    "        loss_discriminator = - 1 / 2 * (loss_y1 + loss_y0)\n",
    "        discriminator_optimizer.zero_grad()\n",
    "        loss_discriminator.backward()\n",
    "        discriminator_optimizer.step()\n",
    "\n",
    "        # Entrenamiento generador:\n",
    "        loss_generator = 1 / 2 * torch.log(1-discriminator(x_fake)).mean(dim=0)\n",
    "        generator_optimizer.zero_grad()\n",
    "        loss_generator.backward()\n",
    "        generator_optimizer.step()"
   ]
  },
  {
   "cell_type": "code",
   "execution_count": 5,
   "metadata": {},
   "outputs": [],
   "source": [
    "data_dim, latent_dim = 2, 16\n",
    "\n",
    "generator = generator(data_dim, latent_dim)\n",
    "discriminator = discriminator(data_dim)\n",
    "\n",
    "train(generator, discriminator, latent_dim)"
   ]
  },
  {
   "cell_type": "markdown",
   "metadata": {},
   "source": [
    "## Generación"
   ]
  },
  {
   "cell_type": "code",
   "execution_count": 6,
   "metadata": {},
   "outputs": [],
   "source": [
    "def generate_samples(generator, latent_dim, n_samples=1000):\n",
    "    z = torch.randn([n_samples, latent_dim])\n",
    "    samples = generator(z).detach()\n",
    "    return samples"
   ]
  },
  {
   "cell_type": "code",
   "execution_count": 7,
   "metadata": {},
   "outputs": [
    {
     "data": {
      "image/png": "[encoded data removed]",
      "text/plain": [
       "<Figure size 300x300 with 1 Axes>"
      ]
     },
     "metadata": {},
     "output_type": "display_data"
    }
   ],
   "source": [
    "samples = generate_samples(generator, latent_dim)\n",
    "plt.figure(figsize=(3, 3))\n",
    "plt.scatter(samples[:, 0], samples[:, 1], s=1)\n",
    "plt.show()"
   ]
  }
 ],
 "metadata": {
  "accelerator": "GPU",
  "colab": {
   "gpuType": "T4",
   "provenance": []
  },
  "kernelspec": {
   "display_name": "Python 3",
   "name": "python3"
  },
  "language_info": {
   "codemirror_mode": {
    "name": "ipython",
    "version": 3
   },
   "file_extension": ".py",
   "mimetype": "text/x-python",
   "name": "python",
   "nbconvert_exporter": "python",
   "pygments_lexer": "ipython3",
   "version": "3.12.8"
  }
 },
 "nbformat": 4,
 "nbformat_minor": 0
}
